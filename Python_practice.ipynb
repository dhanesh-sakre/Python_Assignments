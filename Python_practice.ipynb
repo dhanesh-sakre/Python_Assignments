{
 "cells": [
  {
   "cell_type": "code",
   "execution_count": 2,
   "id": "19cecaba-d1d1-4fe6-9e25-481a96d4da27",
   "metadata": {},
   "outputs": [
    {
     "name": "stdin",
     "output_type": "stream",
     "text": [
      "input a number here :  49\n"
     ]
    },
    {
     "name": "stdout",
     "output_type": "stream",
     "text": [
      "7.0\n"
     ]
    }
   ],
   "source": [
    "# squre root of a number\n",
    "\n",
    "num =  float(input(\"input a number here : \"))\n",
    "sqrt = num ** 0.5\n",
    "print(sqrt)"
   ]
  },
  {
   "cell_type": "code",
   "execution_count": 79,
   "id": "0577bcae-5751-4697-85aa-183d7e9ee863",
   "metadata": {},
   "outputs": [
    {
     "name": "stdin",
     "output_type": "stream",
     "text": [
      "input a number here :  455\n"
     ]
    },
    {
     "name": "stdout",
     "output_type": "stream",
     "text": [
      "square root of the number is :  21.330729007701542\n"
     ]
    }
   ],
   "source": [
    "# square root of a number by using math module\n",
    "import math\n",
    "num =  float(input(\"input a number here : \"))\n",
    "sr = math.sqrt(num)\n",
    "print('square root of the number is : ', sr)"
   ]
  },
  {
   "cell_type": "code",
   "execution_count": 6,
   "id": "cf640cfb-3208-4fbd-ab8f-2006368972c1",
   "metadata": {},
   "outputs": [
    {
     "name": "stdin",
     "output_type": "stream",
     "text": [
      "enter the height of triangle :  78\n",
      "enter the base of triangle :  56\n"
     ]
    },
    {
     "name": "stdout",
     "output_type": "stream",
     "text": [
      "the area of the triangle is :  218.40000000000003\n"
     ]
    }
   ],
   "source": [
    "# python programme to calculate area of a triangle\n",
    "# area = (1/2) * height * base\n",
    "\n",
    "h = float(input('enter the height of triangle : '))\n",
    "b = float(input('enter the base of triangle : '))\n",
    "area = (0.05) * h *  b\n",
    "print('the area of the triangle is : ',area)"
   ]
  },
  {
   "cell_type": "code",
   "execution_count": 9,
   "id": "10ece43a-5e7e-41ad-befe-1fb565712a32",
   "metadata": {},
   "outputs": [
    {
     "name": "stdout",
     "output_type": "stream",
     "text": [
      "x =  12 , y =  13\n"
     ]
    }
   ],
   "source": [
    "# python programme to swap two variable\n",
    "x  = 13\n",
    "y = 12\n",
    "tem = x\n",
    "x = y\n",
    "y = tem\n",
    "print(\"x = \", x, \",\", \"y = \", y)"
   ]
  },
  {
   "cell_type": "code",
   "execution_count": 10,
   "id": "6e9c910c-73e2-427e-b0e7-0d8d6adccabf",
   "metadata": {},
   "outputs": [
    {
     "name": "stdout",
     "output_type": "stream",
     "text": [
      "x =  12 , y =  13\n"
     ]
    }
   ],
   "source": [
    "# 2nd way: python programme to swap two variable\n",
    "x  = 13\n",
    "y = 12\n",
    "x, y = y, x\n",
    "print(\"x = \", x, \",\", \"y = \", y)"
   ]
  },
  {
   "cell_type": "code",
   "execution_count": 14,
   "id": "8cba9bc0-1cde-4840-a944-fe5af11160b5",
   "metadata": {},
   "outputs": [
    {
     "name": "stdin",
     "output_type": "stream",
     "text": [
      "enter the value in kilometer :  778\n"
     ]
    },
    {
     "name": "stdout",
     "output_type": "stream",
     "text": [
      "778.0 kilometers in mile is :  483.89343800000006\n"
     ]
    }
   ],
   "source": [
    "# programme to convert kilometers to miles\n",
    "\n",
    "km = float(input('enter the value in kilometer : '))\n",
    "mile = (0.621971) * km\n",
    "print(km,'kilometers in mile is : ', mile)"
   ]
  },
  {
   "cell_type": "code",
   "execution_count": 22,
   "id": "96872b38-4ecf-42aa-972e-cace3521bb43",
   "metadata": {},
   "outputs": [
    {
     "name": "stdin",
     "output_type": "stream",
     "text": [
      "enter a number here :  -6611\n"
     ]
    },
    {
     "name": "stdout",
     "output_type": "stream",
     "text": [
      "number is negative\n"
     ]
    }
   ],
   "source": [
    "# programme to check whether a number is positive or \n",
    "\n",
    "num = float(input('enter a number here : '))\n",
    "\n",
    "if num > 0 :\n",
    "    print('number is positive')\n",
    "elif num < 0 :\n",
    "    print('number is negative')\n",
    "else:\n",
    "    print('number is zero')"
   ]
  },
  {
   "cell_type": "code",
   "execution_count": 25,
   "id": "b1e6d5a7-feee-409f-ad0c-2ce0dab2f4f9",
   "metadata": {},
   "outputs": [
    {
     "name": "stdin",
     "output_type": "stream",
     "text": [
      "enter s numebr here :  0\n"
     ]
    },
    {
     "name": "stdout",
     "output_type": "stream",
     "text": [
      "the number is even\n"
     ]
    }
   ],
   "source": [
    "# to check whether the nuber is odd or even number\n",
    "\n",
    "num = float(input('enter s numebr here : '))\n",
    "\n",
    "if num % 2 == 0:\n",
    "    print('the number is even')\n",
    "else:\n",
    "    print('number is odd')"
   ]
  },
  {
   "cell_type": "code",
   "execution_count": 30,
   "id": "a2b3802c-2a95-4b54-8472-59ef2dbc03f8",
   "metadata": {},
   "outputs": [
    {
     "name": "stdin",
     "output_type": "stream",
     "text": [
      "enter a year here :  1966\n"
     ]
    },
    {
     "name": "stdout",
     "output_type": "stream",
     "text": [
      "1966  is not a leap year\n"
     ]
    }
   ],
   "source": [
    "# programme to check a leap year\n",
    "\n",
    "year = int(input('enter a year here : '))\n",
    "\n",
    "if (year % 100 == 0) and (year % 400 == 0):\n",
    "    print('year is a leap year')\n",
    "else:\n",
    "    print(year, ' is not a leap year')"
   ]
  },
  {
   "cell_type": "code",
   "execution_count": 35,
   "id": "2f68e9ae-e11d-4fe6-82e3-63d67581be29",
   "metadata": {},
   "outputs": [
    {
     "name": "stdin",
     "output_type": "stream",
     "text": [
      "enter a number here :  556\n",
      "enter a number here :  455\n",
      "enter a number here :  1022\n"
     ]
    },
    {
     "name": "stdout",
     "output_type": "stream",
     "text": [
      "1022.0 is the largest number among these numbers\n"
     ]
    }
   ],
   "source": [
    "# programme to find out the largest number among the given numebrs\n",
    "\n",
    "num1 = float(input('enter a number here : '))\n",
    "num2 = float(input('enter a number here : '))\n",
    "num3 = float(input('enter a number here : '))\n",
    "\n",
    "if (num1 > num2) and (num1 > num3):\n",
    "    print(num1, 'is the largest number among these numbers')\n",
    "elif (num2 > num1) and (num2 > num3):\n",
    "    print(num2, 'is the largest number among these numbers')\n",
    "else:\n",
    "    print(num3, 'is the largest number among these numbers')"
   ]
  },
  {
   "cell_type": "code",
   "execution_count": 66,
   "id": "d4242465-45ff-4163-a709-3789bb911c2a",
   "metadata": {},
   "outputs": [
    {
     "name": "stdin",
     "output_type": "stream",
     "text": [
      "enter a number here :  455\n"
     ]
    },
    {
     "name": "stdout",
     "output_type": "stream",
     "text": [
      "455 is not a prime number\n"
     ]
    }
   ],
   "source": [
    "# programme to check whether a number is a prime number or not\n",
    "# prime number are divisible only by 1 and by itself\n",
    "\n",
    "num = int(input('enter a number here : '))\n",
    "\n",
    "if num <= 1:\n",
    "    print(num, 'is not a prime number')\n",
    "elif num > 1:\n",
    "    for i in range(2, num):\n",
    "        if num % i == 0:\n",
    "            print(num, 'is not a prime number')\n",
    "            break\n",
    "    else:\n",
    "        print(num, 'is a prime number')"
   ]
  },
  {
   "cell_type": "code",
   "execution_count": 78,
   "id": "8a712882-2eb6-46dc-b53d-2354ab1efd0a",
   "metadata": {},
   "outputs": [
    {
     "name": "stdout",
     "output_type": "stream",
     "text": [
      "80\n"
     ]
    }
   ],
   "source": [
    "# generate a random number\n",
    "\n",
    "import random as rd\n",
    "\n",
    "num = rd.randint(1,100)\n",
    "print(num)"
   ]
  },
  {
   "cell_type": "code",
   "execution_count": 92,
   "id": "c4e07b29-29f0-4408-9ab4-0018fdb2e20c",
   "metadata": {},
   "outputs": [
    {
     "name": "stdin",
     "output_type": "stream",
     "text": [
      "enter a lower number here :  100\n",
      "enter a upper number here :  200\n"
     ]
    },
    {
     "name": "stdout",
     "output_type": "stream",
     "text": [
      "101 103 107 109 113 127 131 137 139 149 151 157 163 167 173 179 181 191 193 197 199 "
     ]
    }
   ],
   "source": [
    "# programme to print all prime numbers with a certain range\n",
    "lower = int(input('enter a lower number here : '))\n",
    "upper = int(input('enter a upper number here : '))\n",
    "\n",
    "for num in range(lower, upper+1):\n",
    "    if num > 1:\n",
    "        for i in range(2, num):\n",
    "            if num % i == 0:\n",
    "                 break\n",
    "        else:\n",
    "            print(num, end=' ')"
   ]
  },
  {
   "cell_type": "code",
   "execution_count": 96,
   "id": "e16b12aa-555d-43d5-810c-28476fbe8a40",
   "metadata": {},
   "outputs": [
    {
     "name": "stdin",
     "output_type": "stream",
     "text": [
      "enter temprature in degree :  45\n"
     ]
    },
    {
     "name": "stdout",
     "output_type": "stream",
     "text": [
      "45.0 Degree Celsius is eauals to 113.0 Fahrenheit \n"
     ]
    }
   ],
   "source": [
    "# converting degree to farenhiet\n",
    "\n",
    "degree = float(input('enter temprature in degree : '))\n",
    "farh = (1.8 * degree) +32\n",
    "print(degree, 'Degree Celsius is eauals to', farh, 'Fahrenheit ' )"
   ]
  },
  {
   "cell_type": "code",
   "execution_count": 108,
   "id": "7fb6afc6-f5ed-4fb8-9fc0-a66638a0a522",
   "metadata": {},
   "outputs": [
    {
     "name": "stdin",
     "output_type": "stream",
     "text": [
      "enter a number here:  12\n"
     ]
    },
    {
     "name": "stdout",
     "output_type": "stream",
     "text": [
      "factorial of  12 is 479001600\n"
     ]
    }
   ],
   "source": [
    "# FIND A FACTORIAL OF A NUMBER using for loop\n",
    "\n",
    "factorial = 1\n",
    "num = int(input('enter a number here: '))\n",
    "if num <= 0:\n",
    "    print('factorial of this number does not exist')\n",
    "elif num>0 :\n",
    "    for i in range(1, num+1):\n",
    "        factorial = factorial * i\n",
    "    print('factorial of ',num , 'is', factorial)"
   ]
  },
  {
   "cell_type": "code",
   "execution_count": 138,
   "id": "0b7b79d9-ac0b-4a3d-83ef-0ead5a57358b",
   "metadata": {},
   "outputs": [
    {
     "name": "stdin",
     "output_type": "stream",
     "text": [
      "enter a number here :  11\n"
     ]
    },
    {
     "name": "stdout",
     "output_type": "stream",
     "text": [
      "table of  11 is\n",
      "11\n",
      "22\n",
      "33\n",
      "44\n",
      "55\n",
      "66\n",
      "77\n",
      "88\n",
      "99\n",
      "110\n"
     ]
    }
   ],
   "source": [
    "# python programme to calulate a table of multiplication table\n",
    "\n",
    "num = int(input('enter a number here : '))\n",
    "\n",
    "print('table of ',num, 'is')\n",
    "\n",
    "for i in range(1, 11):\n",
    "    table = num * i\n",
    "    print( table)"
   ]
  },
  {
   "cell_type": "code",
   "execution_count": 140,
   "id": "5c58d7dd-7f59-40d7-932d-d6662274fd30",
   "metadata": {},
   "outputs": [
    {
     "name": "stdin",
     "output_type": "stream",
     "text": [
      "enter a number here :  5\n"
     ]
    },
    {
     "name": "stdout",
     "output_type": "stream",
     "text": [
      "table of 5 is\n",
      "5\n",
      "10\n",
      "15\n",
      "20\n",
      "25\n",
      "30\n",
      "35\n",
      "40\n",
      "45\n",
      "50\n"
     ]
    }
   ],
   "source": [
    "# python programme to calulate a table of multiplication table\n",
    "# using while loop\n",
    "\n",
    "num = int(input('enter a number here : '))\n",
    "print('table of', num, 'is')\n",
    "i = 1\n",
    "while i <= 10 :\n",
    "    table = num * i\n",
    "    i += 1\n",
    "    print(table)"
   ]
  },
  {
   "cell_type": "code",
   "execution_count": 144,
   "id": "89e7b359-aab5-428d-b34b-6161da42df9e",
   "metadata": {},
   "outputs": [
    {
     "name": "stdin",
     "output_type": "stream",
     "text": [
      "enter a number here :  7\n"
     ]
    },
    {
     "name": "stdout",
     "output_type": "stream",
     "text": [
      "0\n",
      "1\n",
      "1\n",
      "2\n",
      "3\n",
      "5\n",
      "8\n"
     ]
    }
   ],
   "source": [
    "# programme to print Fibonnaci sequence\n",
    "\n",
    "a = 0\n",
    "b = 1\n",
    "num = int(input('enter a number here : '))\n",
    "if num == 1 :\n",
    "    print(a)\n",
    "else:\n",
    "    print(a)\n",
    "    print(b)\n",
    "    for i in range(2, num):\n",
    "        c = a + b\n",
    "        a = b\n",
    "        b = c\n",
    "        print(c)"
   ]
  },
  {
   "cell_type": "code",
   "execution_count": 147,
   "id": "00b3a333-cac7-4dde-98f3-b8e14e95e0be",
   "metadata": {},
   "outputs": [
    {
     "name": "stdin",
     "output_type": "stream",
     "text": [
      "enter a number : 11\n"
     ]
    },
    {
     "name": "stdout",
     "output_type": "stream",
     "text": [
      "0\n",
      "1\n",
      "1\n",
      "2\n",
      "3\n",
      "5\n",
      "8\n",
      "13\n",
      "21\n",
      "34\n",
      "55\n"
     ]
    }
   ],
   "source": [
    "# fibonacci\n",
    "\n",
    "a = 0\n",
    "b = 1\n",
    "num = int(input('enter a number :'))\n",
    "if num == 1 :\n",
    "    print(a)\n",
    "else:\n",
    "    print(a)\n",
    "    print(b)\n",
    "    for i in range(2, num):\n",
    "        c = a + b\n",
    "        a = b\n",
    "        b = c\n",
    "        print(c)"
   ]
  },
  {
   "cell_type": "code",
   "execution_count": 183,
   "id": "a27e3471-a2a5-4b60-aa1b-b81531820ee1",
   "metadata": {},
   "outputs": [
    {
     "name": "stdin",
     "output_type": "stream",
     "text": [
      "enter a number here :  1634\n"
     ]
    },
    {
     "name": "stdout",
     "output_type": "stream",
     "text": [
      "1634 is an Armstrong number\n"
     ]
    }
   ],
   "source": [
    "# programme to check armstrong number\n",
    "# if I take cube of each digit present in a number and add these values then I will get the same number\n",
    "# like 122 is a number\n",
    "# (1*1*1)+(2*2*2)+(2*2*2)= sum;  if this sum is equals to 122 then I will be called as Armstrong number\n",
    "\n",
    "num = input('enter a number here : ')\n",
    "power = len(num)\n",
    "sum = 0\n",
    "for i in num:\n",
    "    cube = (int(i)** power)\n",
    "    sum = sum + cube\n",
    "    if sum == int(num):\n",
    "        print(num,'is an Armstrong number')\n",
    "        break\n",
    "else:\n",
    "    print(num,'it is not an Armstrong number')"
   ]
  },
  {
   "cell_type": "code",
   "execution_count": 181,
   "id": "32d93a6b-6b7d-4430-8d4e-b50ec26830ea",
   "metadata": {},
   "outputs": [
    {
     "name": "stdin",
     "output_type": "stream",
     "text": [
      "enter a number here :  1634\n"
     ]
    },
    {
     "name": "stdout",
     "output_type": "stream",
     "text": [
      "1634  is an armstrong number\n"
     ]
    }
   ],
   "source": [
    "# 2nd way\n",
    "num = input('enter a number here : ')\n",
    "power = len(num)\n",
    "temp = int(num)\n",
    "sum = 0\n",
    "while temp > 0:\n",
    "    digit = temp % 10\n",
    "    cube = digit ** power\n",
    "    sum = sum + cube\n",
    "    temp = temp // 10\n",
    "if sum == int(num):\n",
    "    print(int(num), ' is an armstrong number')\n",
    "else:\n",
    "    print(int(num), ' is not an armstrong number')"
   ]
  },
  {
   "cell_type": "code",
   "execution_count": 190,
   "id": "9519b861-1250-4b23-83cd-573ba4f8e58e",
   "metadata": {},
   "outputs": [
    {
     "name": "stdin",
     "output_type": "stream",
     "text": [
      "enter lower number :  100\n",
      "enter upper number :  10000\n"
     ]
    },
    {
     "name": "stdout",
     "output_type": "stream",
     "text": [
      "153\n",
      "370\n",
      "371\n",
      "407\n",
      "1634\n",
      "8208\n",
      "9474\n"
     ]
    }
   ],
   "source": [
    "# armstrong numbers in a ragne\n",
    "\n",
    "lower = int(input('enter lower number : '))\n",
    "upper = int(input('enter upper number : '))\n",
    "\n",
    "for num in range(lower, upper+1):\n",
    "    temp = num\n",
    "    power = len(str(num))\n",
    "    sum = 0\n",
    "    while temp > 0:\n",
    "        digit = temp % 10\n",
    "        sum += digit ** power\n",
    "        temp = temp // 10\n",
    "    if sum == num:\n",
    "        print(num)"
   ]
  },
  {
   "cell_type": "code",
   "execution_count": 193,
   "id": "24cf69fb-b658-4bf8-9706-eb0ee7d70350",
   "metadata": {},
   "outputs": [
    {
     "name": "stdin",
     "output_type": "stream",
     "text": [
      "enter a number here : 5\n"
     ]
    },
    {
     "name": "stdout",
     "output_type": "stream",
     "text": [
      "15\n"
     ]
    }
   ],
   "source": [
    "# programme to find sum of n natural numbers using for loop\n",
    "\n",
    "num = int(input('enter a number here :'))\n",
    "sum = 0\n",
    "\n",
    "if num < 0:\n",
    "    print('please enter a positive number')\n",
    "else:\n",
    "    for i in range(0, num+1):\n",
    "        sum += i\n",
    "    print(sum)"
   ]
  },
  {
   "cell_type": "code",
   "execution_count": 195,
   "id": "c199414e-29f8-4c5f-8204-a15c70e80f43",
   "metadata": {},
   "outputs": [
    {
     "name": "stdin",
     "output_type": "stream",
     "text": [
      "enter a number here : 45\n"
     ]
    },
    {
     "name": "stdout",
     "output_type": "stream",
     "text": [
      "1035\n"
     ]
    }
   ],
   "source": [
    "# programme to find sum of n natural numbers using while loop\n",
    "\n",
    "num = int(input('enter a number here :'))\n",
    "sum = 0\n",
    "\n",
    "if num < 0:\n",
    "    print('please enter a positive number')\n",
    "else:\n",
    "    while num >= 0 :\n",
    "        sum += num\n",
    "        num -= 1\n",
    "    print(sum)"
   ]
  },
  {
   "cell_type": "code",
   "execution_count": null,
   "id": "2552e27c-1be0-42d9-bae9-1c2386f19dfc",
   "metadata": {},
   "outputs": [],
   "source": [
    "# I have solved total 20 problems here"
   ]
  },
  {
   "cell_type": "code",
   "execution_count": null,
   "id": "cd54473b-e631-4687-90d7-893c48c83da8",
   "metadata": {},
   "outputs": [],
   "source": [
    "# next problem are waiting...."
   ]
  }
 ],
 "metadata": {
  "kernelspec": {
   "display_name": "Python 3 (ipykernel)",
   "language": "python",
   "name": "python3"
  },
  "language_info": {
   "codemirror_mode": {
    "name": "ipython",
    "version": 3
   },
   "file_extension": ".py",
   "mimetype": "text/x-python",
   "name": "python",
   "nbconvert_exporter": "python",
   "pygments_lexer": "ipython3",
   "version": "3.12.4"
  }
 },
 "nbformat": 4,
 "nbformat_minor": 5
}
