{
 "cells": [
  {
   "cell_type": "code",
   "execution_count": null,
   "id": "4e9c247a-c70d-451d-bb1f-3fe417be3914",
   "metadata": {},
   "outputs": [],
   "source": [
    "# documentation of any function or object:\n",
    "# shift + tab"
   ]
  },
  {
   "cell_type": "markdown",
   "id": "13cc6cc4-84b3-4150-873a-4eb7a6c9b06a",
   "metadata": {},
   "source": [
    "# Print() FUNCTION"
   ]
  },
  {
   "cell_type": "code",
   "execution_count": 1,
   "id": "9d7298ea-bb80-4a31-beb2-2949eced765a",
   "metadata": {},
   "outputs": [
    {
     "name": "stdout",
     "output_type": "stream",
     "text": [
      "hello world\n"
     ]
    }
   ],
   "source": [
    "print('hello world')"
   ]
  },
  {
   "cell_type": "code",
   "execution_count": 2,
   "id": "e353660b-3ca0-4a54-b620-ac59683182f3",
   "metadata": {},
   "outputs": [
    {
     "name": "stdout",
     "output_type": "stream",
     "text": [
      "5\n"
     ]
    }
   ],
   "source": [
    "print(5)"
   ]
  },
  {
   "cell_type": "code",
   "execution_count": 3,
   "id": "c286f818-a43e-4673-8a89-ff3fe773e105",
   "metadata": {},
   "outputs": [
    {
     "name": "stdout",
     "output_type": "stream",
     "text": [
      "5.6\n"
     ]
    }
   ],
   "source": [
    "print(5.6)"
   ]
  },
  {
   "cell_type": "code",
   "execution_count": 4,
   "id": "19f88a26-251c-407e-9067-51197086906d",
   "metadata": {},
   "outputs": [
    {
     "name": "stdout",
     "output_type": "stream",
     "text": [
      "True\n"
     ]
    }
   ],
   "source": [
    "print(True)"
   ]
  },
  {
   "cell_type": "code",
   "execution_count": 6,
   "id": "b22ea34f-ce43-4110-bdc3-fa222a20fed5",
   "metadata": {},
   "outputs": [
    {
     "name": "stdout",
     "output_type": "stream",
     "text": [
      "False\n"
     ]
    }
   ],
   "source": [
    "print(False)"
   ]
  },
  {
   "cell_type": "code",
   "execution_count": 8,
   "id": "ec9fc086-c9ef-4de9-b725-39079797a3d7",
   "metadata": {},
   "outputs": [
    {
     "name": "stdout",
     "output_type": "stream",
     "text": [
      "India 5 True\n"
     ]
    }
   ],
   "source": [
    "print('India', 5, True)"
   ]
  },
  {
   "cell_type": "code",
   "execution_count": 7,
   "id": "2707a70c-c938-4cbe-993e-27c32a3d8731",
   "metadata": {},
   "outputs": [
    {
     "name": "stdout",
     "output_type": "stream",
     "text": [
      "India Nepal China Bhutan\n"
     ]
    }
   ],
   "source": [
    "print('India', 'Nepal', 'China', 'Bhutan')"
   ]
  },
  {
   "cell_type": "markdown",
   "id": "dc639f36-8af8-4574-89fa-e78a4136c24a",
   "metadata": {},
   "source": [
    "### \"sep\" parameter in the print function"
   ]
  },
  {
   "cell_type": "code",
   "execution_count": null,
   "id": "60620aed-af5a-4021-8c1c-9ac50b515cee",
   "metadata": {},
   "outputs": [],
   "source": [
    "# sep parameter in the print function\n",
    "# by default it is set as a space character"
   ]
  },
  {
   "cell_type": "code",
   "execution_count": 9,
   "id": "7dc696fe-6091-4d49-a1b5-7b4a543d8bc9",
   "metadata": {},
   "outputs": [
    {
     "name": "stdout",
     "output_type": "stream",
     "text": [
      "India/Nepal/China/Bhutan\n"
     ]
    }
   ],
   "source": [
    "# if I want \"/\" instead of space between the values\n",
    "\n",
    "print('India', 'Nepal', 'China', 'Bhutan', sep='/')"
   ]
  },
  {
   "cell_type": "code",
   "execution_count": 10,
   "id": "f3974464-96d4-4cb3-8e44-df8cf32f065b",
   "metadata": {},
   "outputs": [
    {
     "name": "stdout",
     "output_type": "stream",
     "text": [
      "India-Nepal-China-Bhutan\n"
     ]
    }
   ],
   "source": [
    "# if I want \"-\" instead of space between the values\n",
    "\n",
    "print('India', 'Nepal', 'China', 'Bhutan', sep='-')"
   ]
  },
  {
   "cell_type": "markdown",
   "id": "2449ab2e-27b9-45eb-82e2-ae1bc51a17a5",
   "metadata": {},
   "source": [
    "### \"end\" parameter in the print function"
   ]
  },
  {
   "cell_type": "code",
   "execution_count": 11,
   "id": "a7eebd19-f67f-4177-a024-7b203bfc41d3",
   "metadata": {},
   "outputs": [
    {
     "name": "stdout",
     "output_type": "stream",
     "text": [
      "Hello\n",
      "world\n"
     ]
    }
   ],
   "source": [
    "# by default the value of this parameter is set as \"newline character(\\n)\"\n",
    "# that's why it automatically adds a new line after a statement is printed\n",
    "\n",
    "print('Hello')\n",
    "print('world')"
   ]
  },
  {
   "cell_type": "code",
   "execution_count": 12,
   "id": "d963896f-011f-4d81-9044-072bafa30437",
   "metadata": {},
   "outputs": [
    {
     "name": "stdout",
     "output_type": "stream",
     "text": [
      "Hello world\n"
     ]
    }
   ],
   "source": [
    "# if I want this two words in the same line then I will change the value of \"end\" parameter in the print statement\n",
    "# I want a space instead of new line so ,\n",
    "\n",
    "print('Hello', end=' ')\n",
    "print('world')"
   ]
  },
  {
   "cell_type": "markdown",
   "id": "b5e34d04-e376-4f04-a4ef-f82bdaf0e015",
   "metadata": {},
   "source": [
    "# DATA TYPES"
   ]
  },
  {
   "cell_type": "code",
   "execution_count": null,
   "id": "570ef3c6-f265-423a-a646-57960a4a6f27",
   "metadata": {},
   "outputs": [],
   "source": [
    "# int = integer\n",
    "# float = float\n",
    "# bool = boolean\n",
    "# complex = complex\n",
    "# str = string"
   ]
  },
  {
   "cell_type": "markdown",
   "id": "c39309b1-bc41-40bc-9594-be5aa48f99a4",
   "metadata": {},
   "source": [
    "## int = integer"
   ]
  },
  {
   "cell_type": "markdown",
   "id": "b9bf0407-06f4-4689-afb1-a87a00fdda30",
   "metadata": {},
   "source": [
    " 1, 2 ,3 , 1, 2, 5, 5, 56, 45585"
   ]
  },
  {
   "cell_type": "code",
   "execution_count": 25,
   "id": "bc87a28e-e220-48a6-a4d4-e8769d7170d1",
   "metadata": {},
   "outputs": [
    {
     "name": "stdout",
     "output_type": "stream",
     "text": [
      "<class 'int'>\n"
     ]
    }
   ],
   "source": [
    "print(type(4))"
   ]
  },
  {
   "cell_type": "code",
   "execution_count": 26,
   "id": "7e4e8664-6acd-4e5f-8079-b706affa413d",
   "metadata": {},
   "outputs": [
    {
     "name": "stdout",
     "output_type": "stream",
     "text": [
      "<class 'int'>\n"
     ]
    }
   ],
   "source": [
    "print(type(6))"
   ]
  },
  {
   "cell_type": "markdown",
   "id": "6fe1cfa7-0a0d-4c62-a426-929d2f3c7a5f",
   "metadata": {},
   "source": [
    "## float = Float"
   ]
  },
  {
   "cell_type": "markdown",
   "id": "53a36785-5a9c-46de-8257-c15f22ab4ed8",
   "metadata": {},
   "source": [
    " 4.5, 45.89, 47.55, 4152.0"
   ]
  },
  {
   "cell_type": "code",
   "execution_count": 24,
   "id": "a237bbfd-1746-4174-93eb-948841f953ca",
   "metadata": {},
   "outputs": [
    {
     "name": "stdout",
     "output_type": "stream",
     "text": [
      "<class 'float'>\n"
     ]
    }
   ],
   "source": [
    "print(type(4.5))"
   ]
  },
  {
   "cell_type": "code",
   "execution_count": 23,
   "id": "4f176af2-7992-4bfc-85b6-10c7578ea032",
   "metadata": {},
   "outputs": [
    {
     "name": "stdout",
     "output_type": "stream",
     "text": [
      "<class 'float'>\n"
     ]
    }
   ],
   "source": [
    "print(type(84.5))"
   ]
  },
  {
   "cell_type": "markdown",
   "id": "43e9fbf6-7a2e-4223-85e8-da99d3d84d75",
   "metadata": {},
   "source": [
    "## bool = Boolean"
   ]
  },
  {
   "cell_type": "markdown",
   "id": "56873ef4-9068-457e-aa9b-e8cc3c7beb89",
   "metadata": {},
   "source": [
    " True, False"
   ]
  },
  {
   "cell_type": "code",
   "execution_count": 27,
   "id": "430b0344-51c0-4e48-befd-036cc49941db",
   "metadata": {},
   "outputs": [
    {
     "name": "stdout",
     "output_type": "stream",
     "text": [
      "<class 'bool'>\n"
     ]
    }
   ],
   "source": [
    "print(type(True))"
   ]
  },
  {
   "cell_type": "code",
   "execution_count": 22,
   "id": "3f686497-25bf-4368-9cb4-7b84aa44eecb",
   "metadata": {},
   "outputs": [
    {
     "name": "stdout",
     "output_type": "stream",
     "text": [
      "<class 'bool'>\n"
     ]
    }
   ],
   "source": [
    "print(type(False))"
   ]
  },
  {
   "cell_type": "markdown",
   "id": "ece7e11e-813d-4d49-b0f9-c858a83608f0",
   "metadata": {},
   "source": [
    "## complex"
   ]
  },
  {
   "cell_type": "code",
   "execution_count": 28,
   "id": "ee7f1ae7-c8c7-4f8a-ba2a-58de5a7809fd",
   "metadata": {},
   "outputs": [
    {
     "name": "stdout",
     "output_type": "stream",
     "text": [
      "<class 'complex'>\n"
     ]
    }
   ],
   "source": [
    "# complex\n",
    "print(type(5+5j))"
   ]
  },
  {
   "cell_type": "code",
   "execution_count": 21,
   "id": "a750f0af-0ac4-40b6-ad5c-d657ee504994",
   "metadata": {},
   "outputs": [
    {
     "name": "stdout",
     "output_type": "stream",
     "text": [
      "<class 'complex'>\n"
     ]
    }
   ],
   "source": [
    "x = 45+4j\n",
    "print(type(x))"
   ]
  },
  {
   "cell_type": "markdown",
   "id": "13760db2-2c3d-45e9-a611-e749e426bdc5",
   "metadata": {},
   "source": [
    "# DATA STRUCTURES"
   ]
  },
  {
   "cell_type": "markdown",
   "id": "1ab2aefe-a214-46b7-9f9e-55c8b1b7ba28",
   "metadata": {},
   "source": [
    "### built in datastructures\n",
    "\n",
    "1. LIST\n",
    "2. DICTIONARY\n",
    "3. TUPPLE\n",
    "4. SETS\n",
    "5. STRING"
   ]
  },
  {
   "cell_type": "code",
   "execution_count": 59,
   "id": "1f3822ac-e68b-42c0-8f37-18c8c42c7eab",
   "metadata": {},
   "outputs": [
    {
     "name": "stdout",
     "output_type": "stream",
     "text": [
      "hard work\n"
     ]
    }
   ],
   "source": [
    "## STRING\n",
    "print('hard work')"
   ]
  },
  {
   "cell_type": "code",
   "execution_count": 30,
   "id": "143a14ab-1135-423c-90c5-9cea3a71e8ed",
   "metadata": {},
   "outputs": [
    {
     "name": "stdout",
     "output_type": "stream",
     "text": [
      "talent\n"
     ]
    }
   ],
   "source": [
    "print('talent')"
   ]
  },
  {
   "cell_type": "code",
   "execution_count": 31,
   "id": "1201a4ef-4662-468a-8822-f673d08fc784",
   "metadata": {},
   "outputs": [
    {
     "name": "stdout",
     "output_type": "stream",
     "text": [
      "mix of hard work and talent makes a good taste\n",
      "<class 'str'>\n"
     ]
    }
   ],
   "source": [
    "x = 'mix of hard work and talent makes a good taste'\n",
    "print(x)\n",
    "print(type(x))"
   ]
  },
  {
   "cell_type": "code",
   "execution_count": 37,
   "id": "2369ce4a-bbfb-4759-b35e-5e1967f2b4a2",
   "metadata": {},
   "outputs": [
    {
     "name": "stdout",
     "output_type": "stream",
     "text": [
      "[1, 2, 3, 7, 4, 5, 6]\n",
      "<class 'list'>\n"
     ]
    }
   ],
   "source": [
    "# LIST\n",
    "print([1,2,3,7,4,5,6])\n",
    "print(type([1,2,3,7,4,5,6]))"
   ]
  },
  {
   "cell_type": "code",
   "execution_count": 43,
   "id": "8b76890e-db78-40a6-a6a9-c263b0482e0e",
   "metadata": {},
   "outputs": [
    {
     "name": "stdout",
     "output_type": "stream",
     "text": [
      "{'naem': 'dhanesh', 'surname': 'sakre', 'marks': 95, 'cgpa': 80.6}\n",
      "<class 'dict'>\n"
     ]
    }
   ],
   "source": [
    "# dictionary\n",
    "print({'naem':'dhanesh', 'surname':'sakre', 'marks':95, 'cgpa':80.6})\n",
    "print(type({'naem':'dhanesh', 'surname':'sakre', 'marks':95, 'cgpa':80.6}))"
   ]
  },
  {
   "cell_type": "code",
   "execution_count": 35,
   "id": "aaad5c2a-9113-42c0-af29-717cbb8c135b",
   "metadata": {},
   "outputs": [
    {
     "name": "stdout",
     "output_type": "stream",
     "text": [
      "(1, 2, 3, 4, 5, 6, 8, 9, 0)\n",
      "<class 'tuple'>\n"
     ]
    }
   ],
   "source": [
    "# TUPPLE\n",
    "print((1,2,3,4,5,6,8,9,0))\n",
    "print(type((1,2,3,4,5,6,8,9,0)))"
   ]
  },
  {
   "cell_type": "code",
   "execution_count": 39,
   "id": "cb074c55-fe50-40a5-92e4-0a21f882f053",
   "metadata": {},
   "outputs": [
    {
     "name": "stdout",
     "output_type": "stream",
     "text": [
      "{1, 2, 3, 4, 5, 6}\n",
      "<class 'set'>\n"
     ]
    }
   ],
   "source": [
    "# sets\n",
    "print({1,2,5,6,3,4,5,6,})\n",
    "print(type({1,2,5,6,3,4,5,6,}))"
   ]
  },
  {
   "cell_type": "markdown",
   "id": "5c9ff13a-f61c-4fca-8ad2-e489f9afd334",
   "metadata": {},
   "source": [
    "# COMMENTS"
   ]
  },
  {
   "cell_type": "code",
   "execution_count": null,
   "id": "c907fad3-f9a4-4019-8406-1e785df16d3f",
   "metadata": {},
   "outputs": [],
   "source": [
    "# interpreter ignores comments\n",
    "# single line comments"
   ]
  },
  {
   "cell_type": "code",
   "execution_count": 44,
   "id": "eb9f0343-b096-418b-8d6f-90deeda1132c",
   "metadata": {},
   "outputs": [
    {
     "data": {
      "text/plain": [
       "'\\nthis is a\\nmultiline comment\\n'"
      ]
     },
     "execution_count": 44,
     "metadata": {},
     "output_type": "execute_result"
    }
   ],
   "source": [
    "'''\n",
    "this is a\n",
    "multiline comment\n",
    "'''"
   ]
  },
  {
   "cell_type": "markdown",
   "id": "c863d4a2-e779-4f0e-b433-689fbcd829f0",
   "metadata": {},
   "source": [
    "# VARIABLES"
   ]
  },
  {
   "cell_type": "code",
   "execution_count": null,
   "id": "d9853706-9d77-48cf-bb42-9eec6209b901",
   "metadata": {},
   "outputs": [],
   "source": [
    "# variables are containers to hold the data so that I can use that stored data in future."
   ]
  },
  {
   "cell_type": "code",
   "execution_count": null,
   "id": "d4eccf2b-8d7f-475c-8803-ac849042f4a4",
   "metadata": {},
   "outputs": [],
   "source": [
    "# python is dynamically typed language\n",
    "# it automatically declare the type of the variable on the basis of the type of data stored in that variable"
   ]
  },
  {
   "cell_type": "code",
   "execution_count": null,
   "id": "eadf0639-ec3b-43aa-8bae-0b026fed9c4d",
   "metadata": {},
   "outputs": [],
   "source": [
    "# DYNAMIC BINDING CONCEPT\n",
    "\n",
    "# python uses dynamic binding that means I can assign any datatype value in the same variable \n",
    "# and can use that variable again and again to store different types of data"
   ]
  },
  {
   "cell_type": "code",
   "execution_count": 45,
   "id": "52140690-b6ad-41d9-80f7-aa3072e85d64",
   "metadata": {},
   "outputs": [
    {
     "name": "stdout",
     "output_type": "stream",
     "text": [
      "<class 'int'>\n"
     ]
    }
   ],
   "source": [
    "x = 45\n",
    "print(type(x))"
   ]
  },
  {
   "cell_type": "code",
   "execution_count": 46,
   "id": "0948ca28-4245-423a-aa61-c0fe871c8d6e",
   "metadata": {},
   "outputs": [
    {
     "name": "stdout",
     "output_type": "stream",
     "text": [
      "<class 'float'>\n"
     ]
    }
   ],
   "source": [
    "# same varible but datatype changed\n",
    "x = 45.56\n",
    "print(type(x))"
   ]
  },
  {
   "cell_type": "code",
   "execution_count": 47,
   "id": "87fdcdde-df75-434e-b18d-ff929dc9dcdc",
   "metadata": {},
   "outputs": [
    {
     "name": "stdout",
     "output_type": "stream",
     "text": [
      "<class 'str'>\n"
     ]
    }
   ],
   "source": [
    "# same varible\n",
    "x = 'name'\n",
    "print(type(x))"
   ]
  },
  {
   "cell_type": "code",
   "execution_count": 49,
   "id": "8ff8fdba-63d9-485b-8e9c-d0516f8f9636",
   "metadata": {},
   "outputs": [
    {
     "name": "stdout",
     "output_type": "stream",
     "text": [
      "45\n",
      "56\n",
      "89\n"
     ]
    }
   ],
   "source": [
    "#### multiple values assignment\n",
    "\n",
    "a,b,c = 45, 56, 89\n",
    "print(a)\n",
    "print(b)\n",
    "print(c)"
   ]
  },
  {
   "cell_type": "code",
   "execution_count": 50,
   "id": "36b155ac-e27d-42b6-bff2-149acc168bac",
   "metadata": {},
   "outputs": [
    {
     "name": "stdout",
     "output_type": "stream",
     "text": [
      "45\n",
      "89\n",
      "722\n"
     ]
    }
   ],
   "source": [
    "# second way\n",
    "\n",
    "a=45; b=89; c = 722\n",
    "print(a)\n",
    "print(b)\n",
    "print(c)"
   ]
  },
  {
   "cell_type": "code",
   "execution_count": null,
   "id": "6ce0c606-7d31-4792-8c60-fcd0aa2860fc",
   "metadata": {},
   "outputs": [],
   "source": [
    "# BUT \n",
    "# in some languages like C, C++, jave we need to declare type of variable\n",
    "# like which type of data will be stored in the variable\n",
    "# and that variable is binded to only that perticular datatype thorought the lifecycle of that variable\n",
    "# if I declare x as int type in java language then it can not store any other type of data in this x variable"
   ]
  },
  {
   "cell_type": "markdown",
   "id": "de482915-b5bf-4ef2-9efb-e0b84b325eb3",
   "metadata": {},
   "source": [
    "# KEYWORDS"
   ]
  },
  {
   "cell_type": "code",
   "execution_count": null,
   "id": "19e44ad7-0a5c-4a84-8a61-c9fca27dac35",
   "metadata": {},
   "outputs": [],
   "source": [
    "# python is a case sensitive language"
   ]
  },
  {
   "cell_type": "code",
   "execution_count": null,
   "id": "b8d30348-b5ec-450d-bb6b-e631f23a2dd2",
   "metadata": {},
   "outputs": [],
   "source": [
    "# in programming keywords are the reserved word by program because these words have a special meaning.\n",
    "# keywords can be commands or parameters\n",
    "# every programming language has a set of keywords that can not be used as variable names"
   ]
  },
  {
   "cell_type": "code",
   "execution_count": 51,
   "id": "ded2f3ec-22dd-4060-b221-485696dbbd4f",
   "metadata": {},
   "outputs": [
    {
     "name": "stdout",
     "output_type": "stream",
     "text": [
      "['False', 'None', 'True', 'and', 'as', 'assert', 'async', 'await', 'break', 'class', 'continue', 'def', 'del', 'elif', 'else', 'except', 'finally', 'for', 'from', 'global', 'if', 'import', 'in', 'is', 'lambda', 'nonlocal', 'not', 'or', 'pass', 'raise', 'return', 'try', 'while', 'with', 'yield']\n"
     ]
    }
   ],
   "source": [
    "# python has 33 keywords\n",
    "# let's see\n",
    "import keyword\n",
    "print(keyword.kwlist)"
   ]
  },
  {
   "cell_type": "markdown",
   "id": "679722c3-f443-46d5-bfc8-d8f96e736359",
   "metadata": {},
   "source": [
    "# Identifiers"
   ]
  },
  {
   "cell_type": "code",
   "execution_count": null,
   "id": "b552dde9-84be-4a94-b471-e54e9ec5e801",
   "metadata": {},
   "outputs": [],
   "source": [
    "# a python identifier is a name used to variable, function, class, module or other object."
   ]
  },
  {
   "cell_type": "markdown",
   "id": "ee238eb6-8536-4617-abce-2fe21c39049e",
   "metadata": {},
   "source": [
    "##### RULES FOR SETTING IDENTIFIERS\n",
    "1. can only start with alphabets or underscore( _ )\n",
    "2. number also can be used but not at the starting of the name of the identifier\n",
    "3. keywords and special characters cannot be used as the name of identifiers"
   ]
  },
  {
   "cell_type": "code",
   "execution_count": 54,
   "id": "e4588981-2dc6-4136-8f01-94ca7ae1d231",
   "metadata": {},
   "outputs": [
    {
     "name": "stdout",
     "output_type": "stream",
     "text": [
      "dhanesh\n",
      "sakre\n"
     ]
    }
   ],
   "source": [
    "# only and only\n",
    "\n",
    "name = 'dhanesh'\n",
    "\n",
    "_surname = 'sakre'\n",
    "\n",
    "# print\n",
    "print(name)\n",
    "\n",
    "print(_surname)"
   ]
  },
  {
   "cell_type": "markdown",
   "id": "9d10c1cb-306f-4568-a068-087c9996af50",
   "metadata": {},
   "source": [
    "# GETTING INPUT FROM USER"
   ]
  },
  {
   "cell_type": "markdown",
   "id": "243ebc18-74c8-41ea-acce-54d3bc1e3c44",
   "metadata": {},
   "source": [
    "##### STATIC SOFTWARE : does not take input from user only show us output\n",
    "##### DYNAMIC SOFTWARE : which take input from user as well as it return output"
   ]
  },
  {
   "cell_type": "markdown",
   "id": "214c1c9e-ae7c-4b7c-af56-e3a97d2a9615",
   "metadata": {},
   "source": [
    "##### now a days almost all the softwares are dynamic software\n",
    "##### e.g. youtube, zepto, Gpay these apps take input from user and gives output in the form of video content"
   ]
  },
  {
   "cell_type": "code",
   "execution_count": 55,
   "id": "273010b7-3648-4b36-91da-906b7fb39a5e",
   "metadata": {},
   "outputs": [
    {
     "name": "stdin",
     "output_type": "stream",
     "text": [
      " 45\n"
     ]
    },
    {
     "data": {
      "text/plain": [
       "'45'"
      ]
     },
     "execution_count": 55,
     "metadata": {},
     "output_type": "execute_result"
    }
   ],
   "source": [
    "# in python, there is fuction to take input from user\n",
    "input()"
   ]
  },
  {
   "cell_type": "code",
   "execution_count": 56,
   "id": "23c11950-c3d8-4b69-8564-74716c16616d",
   "metadata": {},
   "outputs": [
    {
     "name": "stdin",
     "output_type": "stream",
     "text": [
      "enter a number :  4556\n"
     ]
    },
    {
     "data": {
      "text/plain": [
       "'4556'"
      ]
     },
     "execution_count": 56,
     "metadata": {},
     "output_type": "execute_result"
    }
   ],
   "source": [
    "# it can take one string as prompt(msg) which is displayed to user\n",
    "# it instructs the user like what value to enter\n",
    "\n",
    "input('enter a number : ',)"
   ]
  },
  {
   "cell_type": "code",
   "execution_count": 57,
   "id": "a3ba2131-0da3-45db-a796-cd233a730886",
   "metadata": {},
   "outputs": [
    {
     "name": "stdin",
     "output_type": "stream",
     "text": [
      "enter your age :  27\n"
     ]
    },
    {
     "data": {
      "text/plain": [
       "'27'"
      ]
     },
     "execution_count": 57,
     "metadata": {},
     "output_type": "execute_result"
    }
   ],
   "source": [
    "# if I want to ask the user to enter his name them I can give a prompt or msg as a instruction\n",
    "\n",
    "input('enter your age : ')"
   ]
  },
  {
   "cell_type": "code",
   "execution_count": 67,
   "id": "d7b497fc-5731-45d4-8182-421c4b1de466",
   "metadata": {},
   "outputs": [
    {
     "name": "stdin",
     "output_type": "stream",
     "text": [
      "enter your name :  DHANESH SAKRE\n"
     ]
    },
    {
     "data": {
      "text/plain": [
       "'DHANESH SAKRE'"
      ]
     },
     "execution_count": 67,
     "metadata": {},
     "output_type": "execute_result"
    }
   ],
   "source": [
    "# if I want to ask for his name\n",
    "\n",
    "input('enter your name : ')"
   ]
  },
  {
   "cell_type": "code",
   "execution_count": null,
   "id": "6856b9fc-fb0c-4720-ac8b-20c6ce3efb75",
   "metadata": {},
   "outputs": [],
   "source": [
    "# it always return a str(string) value as a output\n",
    "# because any type of data can be stored in string"
   ]
  },
  {
   "cell_type": "code",
   "execution_count": 65,
   "id": "39cffc9a-cb88-48d6-a980-a920294e3ada",
   "metadata": {},
   "outputs": [
    {
     "name": "stdin",
     "output_type": "stream",
     "text": [
      "enter first number :  778\n",
      "enter seocnd number :  456\n"
     ]
    },
    {
     "name": "stdout",
     "output_type": "stream",
     "text": [
      "sum is :  1234\n"
     ]
    }
   ],
   "source": [
    "# let's make a programme to calculate addition of two numbers\n",
    "\n",
    "first_num = int(input('enter first number : '))\n",
    "second_num = int(input('enter seocnd number : '))\n",
    "addition = first_num + second_num\n",
    "print('sum is : ', addition)"
   ]
  },
  {
   "cell_type": "code",
   "execution_count": null,
   "id": "2d98743c-15fc-4ce2-bb85-bc6de48a9fd0",
   "metadata": {},
   "outputs": [],
   "source": [
    "# here I have used type conversion to convert one datatype to another datatype"
   ]
  },
  {
   "cell_type": "markdown",
   "id": "839d8195-504c-48e0-9314-aacd863b43d8",
   "metadata": {},
   "source": [
    "# TYPE CONVERSION"
   ]
  },
  {
   "cell_type": "code",
   "execution_count": null,
   "id": "3aa4a093-d265-420b-bd73-78f1c3c2ad3e",
   "metadata": {},
   "outputs": [],
   "source": [
    "# IMPLICIT CONVERSION : here I don't need to tell python like what should be the datatype. It automatically identifies\n",
    "# EXPLICIT CONVERSION : I have to explicitly tell python like what should be the datatype"
   ]
  },
  {
   "cell_type": "markdown",
   "id": "155476e6-8f39-45c0-b3e4-af16820f1907",
   "metadata": {},
   "source": [
    "###### IMPLICIT CONVERSION"
   ]
  },
  {
   "cell_type": "code",
   "execution_count": 74,
   "id": "4f3ee463-4d23-4064-a1cb-3387ed620c92",
   "metadata": {},
   "outputs": [],
   "source": [
    "# 4      is int datatype\n",
    "# 5.6     is a float datatype\n",
    "x = 4 + (5.6)"
   ]
  },
  {
   "cell_type": "code",
   "execution_count": 75,
   "id": "e23e5c46-91c6-4bf3-bae7-8b7059fee824",
   "metadata": {},
   "outputs": [
    {
     "data": {
      "text/plain": [
       "float"
      ]
     },
     "execution_count": 75,
     "metadata": {},
     "output_type": "execute_result"
    }
   ],
   "source": [
    "type(x)"
   ]
  },
  {
   "cell_type": "code",
   "execution_count": 78,
   "id": "e5c7b16f-37bc-4f79-9514-0de2a4164f8e",
   "metadata": {},
   "outputs": [
    {
     "name": "stdout",
     "output_type": "stream",
     "text": [
      "2.0\n"
     ]
    },
    {
     "data": {
      "text/plain": [
       "float"
      ]
     },
     "execution_count": 78,
     "metadata": {},
     "output_type": "execute_result"
    }
   ],
   "source": [
    "# example\n",
    "y = 4 / 2\n",
    "print(y)\n",
    "type(y)"
   ]
  },
  {
   "cell_type": "code",
   "execution_count": null,
   "id": "245dd0a7-deaf-442d-b680-0a39485d1c98",
   "metadata": {},
   "outputs": [],
   "source": [
    "# it has automatically detected the datatype of resultant(output value)\n",
    "# this is an example of implicit conversion"
   ]
  },
  {
   "cell_type": "markdown",
   "id": "d1512b58-d8a0-4f59-b847-08f6f7af9ed9",
   "metadata": {},
   "source": [
    "###### EXPLICIT CONVERSION"
   ]
  },
  {
   "cell_type": "code",
   "execution_count": 86,
   "id": "4c576d06-62a4-4e71-9ec2-73ad419e8103",
   "metadata": {},
   "outputs": [
    {
     "name": "stdout",
     "output_type": "stream",
     "text": [
      "45\n"
     ]
    },
    {
     "data": {
      "text/plain": [
       "str"
      ]
     },
     "execution_count": 86,
     "metadata": {},
     "output_type": "execute_result"
    }
   ],
   "source": [
    "# if I want to return inherent datatype of a perticular value then I use explicit conversion\n",
    "# I explicitly tell python to convert that value in it's inherent datatype\n",
    "x  = '45'\n",
    "print(x)\n",
    "type(x)\n"
   ]
  },
  {
   "cell_type": "code",
   "execution_count": 89,
   "id": "1faed13f-9bb7-4bcc-8328-f566b82d95bd",
   "metadata": {},
   "outputs": [
    {
     "name": "stdout",
     "output_type": "stream",
     "text": [
      "45\n"
     ]
    },
    {
     "data": {
      "text/plain": [
       "int"
      ]
     },
     "execution_count": 89,
     "metadata": {},
     "output_type": "execute_result"
    }
   ],
   "source": [
    "y = int(x)\n",
    "print(y)\n",
    "type(y)"
   ]
  },
  {
   "cell_type": "code",
   "execution_count": 90,
   "id": "1c6d3d04-922a-429b-b713-555c6ed6af5d",
   "metadata": {},
   "outputs": [],
   "source": [
    "# type conversion function are on the name of the datatypes only\n",
    "\n",
    "# int() funtion\n",
    "# float() funtion\n",
    "# str() funtion\n",
    "# float() funtion\n",
    "\n",
    "# list() function : to convert into list"
   ]
  },
  {
   "cell_type": "code",
   "execution_count": 92,
   "id": "b513b507-6c1f-45df-a6d2-e9040edbee3b",
   "metadata": {},
   "outputs": [
    {
     "name": "stdout",
     "output_type": "stream",
     "text": [
      "5.6\n",
      "<class 'str'>\n",
      "5.6\n",
      "<class 'float'>\n"
     ]
    }
   ],
   "source": [
    "x = '5.6'\n",
    "print(x)\n",
    "print(type(x))\n",
    "\n",
    "# type casting\n",
    "x = float(x)\n",
    "print(x)\n",
    "print(type(x))"
   ]
  },
  {
   "cell_type": "code",
   "execution_count": 95,
   "id": "d45198af-04d2-4a91-8414-4269c882301b",
   "metadata": {},
   "outputs": [
    {
     "name": "stdout",
     "output_type": "stream",
     "text": [
      "name\n",
      "['n', 'a', 'm', 'e']\n"
     ]
    }
   ],
   "source": [
    "x = 'name'\n",
    "print(x)\n",
    "\n",
    "# conversion\n",
    "x = list(x)\n",
    "print(x)"
   ]
  },
  {
   "cell_type": "markdown",
   "id": "35beb6b6-5706-4ac8-8fcf-dfb7b3aec009",
   "metadata": {},
   "source": [
    "  "
   ]
  }
 ],
 "metadata": {
  "kernelspec": {
   "display_name": "Python 3 (ipykernel)",
   "language": "python",
   "name": "python3"
  },
  "language_info": {
   "codemirror_mode": {
    "name": "ipython",
    "version": 3
   },
   "file_extension": ".py",
   "mimetype": "text/x-python",
   "name": "python",
   "nbconvert_exporter": "python",
   "pygments_lexer": "ipython3",
   "version": "3.12.4"
  }
 },
 "nbformat": 4,
 "nbformat_minor": 5
}
